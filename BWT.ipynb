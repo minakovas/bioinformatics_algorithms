{
  "nbformat": 4,
  "nbformat_minor": 0,
  "metadata": {
    "colab": {
      "provenance": []
    },
    "kernelspec": {
      "name": "python3",
      "display_name": "Python 3"
    },
    "language_info": {
      "name": "python"
    }
  },
  "cells": [
    {
      "cell_type": "code",
      "source": [
        "from collections import Counter\n",
        "\n",
        "def get_suffix_array(string):\n",
        "    '''\n",
        "    generates suffix array from string\n",
        "    '''\n",
        "    return(list(sorted(range(len(string)), key=lambda i:string[i:])))\n",
        "\n",
        "\n",
        "def get_bwt(string, s_array=None):\n",
        "    '''\n",
        "    returns burrows-wheeler transform of given string\n",
        "    '''\n",
        "    if s_array is None:\n",
        "        s_array = get_suffix_array(string)\n",
        "    return(\"\".join(string[idx - 1] for idx in s_array))\n",
        "\n",
        "\n",
        "def get_occurences(bwt, letters=None):\n",
        "    '''\n",
        "    generates occurences array from bwt\n",
        "    '''\n",
        "    if letters is None:\n",
        "        letters = set(bwt)\n",
        "\n",
        "    result = {letter:[0] for letter in letters}\n",
        "    result[bwt[0]] = [1]\n",
        "    for letter in bwt[1:]:\n",
        "        for i, j in result.items():\n",
        "            j.append(j[-1] + (i == letter))\n",
        "    return(result)\n",
        "\n",
        "\n",
        "def get_count(string, letters=None):\n",
        "    '''\n",
        "    generate count array\n",
        "    '''\n",
        "    count = 0\n",
        "    result = {}\n",
        "\n",
        "    if letters is None:\n",
        "        letters = set(string)\n",
        "\n",
        "    c = Counter(string)\n",
        "\n",
        "    for letter in sorted(letters):\n",
        "        result[letter] = count\n",
        "        count += c[letter]\n",
        "    return result\n",
        "\n",
        "\n",
        "def find_word(word, text, alphabet=None):\n",
        "    '''\n",
        "    find word in text using Burrows-Wheeler transform, Suffix array and\n",
        "    count and occurences arrays\n",
        "    '''\n",
        "    if not set(word) <= set(text):\n",
        "        return []\n",
        "\n",
        "    sa = get_suffix_array(text)\n",
        "    bwt = get_bwt(text, sa)\n",
        "    cnt = get_count(text)\n",
        "    occ = get_occurences(bwt)\n",
        "    if alphabet is None:\n",
        "        alphabet = sorted(set(text))\n",
        "\n",
        "    # initialization\n",
        "    a = word[-1]\n",
        "    F = cnt[a]\n",
        "    print(alphabet, cnt)\n",
        "    L = cnt[alphabet[alphabet.index(a) + 1]] - 1\n",
        "\n",
        "    # finding first and last suffixes starting with word\n",
        "    for i in range(len(word)-2, -1, -1):\n",
        "        a = word[i]\n",
        "        F = cnt[a] + occ[a][F-1]\n",
        "        L = cnt[a] + occ[a][L] - 1\n",
        "\n",
        "    # using suffix array find indexes of word occurrences in the text\n",
        "    matches = []\n",
        "    for i in range(F, L+1):\n",
        "        matches.append(sa[i])\n",
        "    matches.sort()\n",
        "\n",
        "    return matches"
      ],
      "metadata": {
        "id": "ZwTBKTR8RYX7"
      },
      "execution_count": 31,
      "outputs": []
    },
    {
      "cell_type": "code",
      "source": [
        "word = 'ANA'\n",
        "text = 'BANANA$'\n",
        "\n",
        "sa = get_suffix_array(text)\n",
        "bwt = get_bwt(text)\n",
        "occ = get_occurences(bwt)\n",
        "cnt = get_count(text)\n",
        "matches = find_word(word, text)\n",
        "\n",
        "print('Suffix array: ', sa)\n",
        "print('burrows-wheeler transform of text: ', bwt)\n",
        "print('occurences array: ', occ)\n",
        "print('counts array: ', cnt)\n",
        "print('matches of ANA in BANANA: ', matches)"
      ],
      "metadata": {
        "id": "2Db2FjqFM_eM",
        "outputId": "70ccfeea-2282-45b7-f08a-966627e4876b",
        "colab": {
          "base_uri": "https://localhost:8080/"
        }
      },
      "execution_count": 25,
      "outputs": [
        {
          "output_type": "stream",
          "name": "stdout",
          "text": [
            "Suffix array:  [6, 5, 3, 1, 0, 4, 2]\n",
            "burrows-wheeler transform of text:  ANNB$AA\n",
            "occurences array:  {'B': [0, 0, 0, 1, 1, 1, 1], '$': [0, 0, 0, 0, 1, 1, 1], 'A': [1, 1, 1, 1, 1, 2, 3], 'N': [0, 1, 2, 2, 2, 2, 2]}\n",
            "counts array:  {'$': 0, 'A': 1, 'B': 4, 'N': 5}\n",
            "matches of ANA in BANANA:  [1, 3]\n"
          ]
        }
      ]
    },
    {
      "cell_type": "code",
      "source": [
        "matches = find_word(word='ISSI', text='MISSISSIPI$')\n",
        "print('matches of ISSI in MISSISSIPI: ', matches)"
      ],
      "metadata": {
        "id": "Svj8xeGFNV2y",
        "outputId": "896c39db-238e-4203-c12b-96d1a177ebe0",
        "colab": {
          "base_uri": "https://localhost:8080/"
        }
      },
      "execution_count": 37,
      "outputs": [
        {
          "output_type": "stream",
          "name": "stdout",
          "text": [
            "['$', 'I', 'M', 'P', 'S'] {'$': 0, 'I': 1, 'M': 5, 'P': 6, 'S': 7}\n",
            "matches of ISSI in MISSISSIPI:  [1, 4]\n"
          ]
        }
      ]
    },
    {
      "cell_type": "code",
      "source": [
        "matches = find_word(word='A', text='B$')\n",
        "print('matches of A in BB: ', matches)"
      ],
      "metadata": {
        "id": "Ng0RmW5KOU_l",
        "outputId": "c122a6ad-9882-4eac-bf85-975064d57cff",
        "colab": {
          "base_uri": "https://localhost:8080/"
        }
      },
      "execution_count": 29,
      "outputs": [
        {
          "output_type": "stream",
          "name": "stdout",
          "text": [
            "matches of A in BB:  []\n"
          ]
        }
      ]
    },
    {
      "cell_type": "code",
      "source": [],
      "metadata": {
        "id": "rLqWW3lvH_oq"
      },
      "execution_count": null,
      "outputs": []
    }
  ]
}