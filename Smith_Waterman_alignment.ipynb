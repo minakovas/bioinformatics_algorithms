{
  "nbformat": 4,
  "nbformat_minor": 0,
  "metadata": {
    "colab": {
      "provenance": []
    },
    "kernelspec": {
      "name": "python3",
      "display_name": "Python 3"
    },
    "language_info": {
      "name": "python"
    }
  },
  "cells": [
    {
      "cell_type": "code",
      "execution_count": null,
      "metadata": {
        "id": "FZ14qKVTinHk"
      },
      "outputs": [],
      "source": [
        "import numpy as np\n",
        "from typing import Tuple, Callable"
      ]
    },
    {
      "cell_type": "code",
      "source": [
        "MATCH = 1\n",
        "MISMATCH = -1\n",
        "INDEL = -1"
      ],
      "metadata": {
        "id": "QCJ601SEitxk"
      },
      "execution_count": null,
      "outputs": []
    },
    {
      "cell_type": "code",
      "source": [
        "def print_align(func: Callable[[str, str], Tuple[str, str, float]]):\n",
        "    \"\"\"\n",
        "    decorator for printing an alignment\n",
        "    | - matched bases\n",
        "    * - mismatched bases\n",
        "    \"\"\"\n",
        "    def wrapper(seq1, seq2):\n",
        "        aligned_seq1, aligned_seq2, score = func(seq1, seq2)\n",
        "        alignment = \"\"\n",
        "        for i, j in zip(aligned_seq1, aligned_seq2):\n",
        "            if i.islower() or j.islower() or i == \"-\" or j == \"-\":\n",
        "                alignment += \" \"\n",
        "            elif i == j:\n",
        "                alignment += \"|\"\n",
        "            elif i != j:\n",
        "                alignment += \"*\"\n",
        "        print(f\"{aligned_seq1}\\n{alignment}\\n{aligned_seq2}\")\n",
        "        print(f\"Alignment score: {score}\")\n",
        "    return wrapper\n",
        "\n",
        "@print_align\n",
        "def smith_waterman(seq1: str, seq2: str) -> Tuple[str, str, float]:\n",
        "    \"\"\"\n",
        "    Performs local alignment of seq1 and seq2 using Smith-Waterman algorithm\n",
        "    with linear gap penalty.\n",
        "    MATCH, MISMATCH and INDEL scores are taken from global namespace\n",
        "    Returns: aligned_seq1, aligned_seq2\n",
        "    Uppercase letters - aligned regions\n",
        "    Lowercase letters - unaligned regions\n",
        "    '-' - indels\n",
        "    \"\"\"\n",
        "    # Initialize dynamic programming graph\n",
        "    n = len(seq1) + 1\n",
        "    m = len(seq2) + 1\n",
        "    dp = np.zeros((n, m))\n",
        "\n",
        "    # backtracking matrix\n",
        "    pi = np.array([[None] * m for _ in range(n)])\n",
        "\n",
        "    # Filling in the matrix using Smith-Waterman general recursion\n",
        "    for i in range(1, n):\n",
        "        for j in range(1, m):\n",
        "            # dict, that contains three variants(match, del1, del2)\n",
        "            d = {}\n",
        "            d[(i - 1, j - 1)] = dp[i - 1, j - 1] + (MATCH if seq1[i - 1] == seq2[j - 1] else MISMATCH)\n",
        "            d[(i - 1, j)] = dp[i - 1, j] + INDEL\n",
        "            d[(i, j - 1)] = dp[i, j - 1] + INDEL\n",
        "            # for local alignment\n",
        "            d[0] = 0\n",
        "            dp[i, j] = max(d.values())\n",
        "            pi[i, j] = max(d, key = d.get)\n",
        "\n",
        "    # Backtracking\n",
        "    aligned_seq1 = \"\"\n",
        "    aligned_seq2 = \"\"\n",
        "\n",
        "    ind = np.unravel_index(np.argmax(dp, axis=None), dp.shape)\n",
        "    # right boundaries of aligned regions in seq1 and seq1\n",
        "    rights = ind\n",
        "    # score of the alignment\n",
        "    align_score = dp[ind]\n",
        "\n",
        "    # performs a reverse pass through dp matrix to build an alignment\n",
        "    i_, j_ = ind\n",
        "    score = align_score\n",
        "    while score > 0:\n",
        "        i, j = pi[i_, j_]\n",
        "        if i == i_ - 1 and j == j_ - 1:\n",
        "            aligned_seq1 += seq1[i]\n",
        "            aligned_seq2 += seq2[j]\n",
        "        elif i == i_  and j == j_ - 1:\n",
        "            aligned_seq1 += \"-\"\n",
        "            aligned_seq2 += seq2[j]\n",
        "        else:\n",
        "            aligned_seq1 += seq1[i]\n",
        "            aligned_seq2 += \"-\"\n",
        "        score = dp[i, j]\n",
        "        i_, j_ = i, j\n",
        "\n",
        "    # left boundaries of aligned regions in seq1 and seq1\n",
        "    lefts = i, j\n",
        "\n",
        "    aligned_seq1 = aligned_seq1[::-1]\n",
        "    aligned_seq2 = aligned_seq2[::-1]\n",
        "\n",
        "    # add unaligned regions\n",
        "\n",
        "    # left part\n",
        "    aligned_seq1 = \"-\" * (max(lefts) - lefts[0]) + seq1[:lefts[0]].lower() + aligned_seq1\n",
        "    aligned_seq2 = \"-\" * (max(lefts) - lefts[1]) + seq2[:lefts[1]].lower() + aligned_seq2\n",
        "\n",
        "    # right part\n",
        "    aligned_seq1 += seq1[rights[0]:].lower()\n",
        "    aligned_seq2 += seq2[rights[1]:].lower()\n",
        "    aligned_seq1 = aligned_seq1.ljust(max(len(aligned_seq1), len(aligned_seq2)), \"-\")\n",
        "    aligned_seq2 = aligned_seq2.ljust(max(len(aligned_seq1), len(aligned_seq2)), \"-\")\n",
        "\n",
        "    return aligned_seq1, aligned_seq2, align_score"
      ],
      "metadata": {
        "id": "Z_oiHHxfiu37"
      },
      "execution_count": null,
      "outputs": []
    },
    {
      "cell_type": "markdown",
      "source": [
        "# Testing"
      ],
      "metadata": {
        "id": "L4A5xxO0llt5"
      }
    },
    {
      "cell_type": "markdown",
      "source": [
        "Так как в данной реализации алгоритма матрица замен не используется, не имеет значения к какому типу последовательностей (белковые, нуклеиновые или произвольные) он будет применён"
      ],
      "metadata": {
        "id": "4XUcNUqFnDB0"
      }
    },
    {
      "cell_type": "markdown",
      "source": [
        "В выравниваниях заглавные буквы означают выравненные участки, строчные буквы - невыравненные участки.  \n",
        "| - совпадающие буквы  \n",
        "\\* - не совпадающие"
      ],
      "metadata": {
        "id": "icbi4_K6ysN9"
      }
    },
    {
      "cell_type": "markdown",
      "source": [
        "Для начала возьмем полностью идентичные последовательности:"
      ],
      "metadata": {
        "id": "LGwoqMp5m2sj"
      }
    },
    {
      "cell_type": "code",
      "source": [
        "seq1 = \"QWERTYQWERTY\"\n",
        "seq2 = \"QWERTYQWERTY\"\n",
        "smith_waterman(seq1, seq2)"
      ],
      "metadata": {
        "colab": {
          "base_uri": "https://localhost:8080/"
        },
        "id": "DQ-Uswv6wTDn",
        "outputId": "276bce40-9d0e-491b-9aa1-360df9ac89f6"
      },
      "execution_count": null,
      "outputs": [
        {
          "output_type": "stream",
          "name": "stdout",
          "text": [
            "QWERTYQWERTY\n",
            "||||||||||||\n",
            "QWERTYQWERTY\n",
            "Alignment score: 12.0\n"
          ]
        }
      ]
    },
    {
      "cell_type": "markdown",
      "source": [
        "Добавим по краям невыравниваемые последовательности"
      ],
      "metadata": {
        "id": "5jpYPcqVm84N"
      }
    },
    {
      "cell_type": "code",
      "source": [
        "seq1 = \"AAAAAAAAAAQWERTYQWERTYGGGGGGG\"\n",
        "seq2 = \"TTTTTTQWERTYQWERTYCCCCCCCCCCC\"\n",
        "smith_waterman(seq1, seq2)"
      ],
      "metadata": {
        "id": "tQU8b_Qbnhvf",
        "colab": {
          "base_uri": "https://localhost:8080/"
        },
        "outputId": "fcb19352-8ee8-4bba-98ad-f9eea798ec3a"
      },
      "execution_count": null,
      "outputs": [
        {
          "output_type": "stream",
          "name": "stdout",
          "text": [
            "aaaaaaaaaaQWERTYQWERTYggggggg----\n",
            "          ||||||||||||           \n",
            "----ttttttQWERTYQWERTYccccccccccc\n",
            "Alignment score: 12.0\n"
          ]
        }
      ]
    },
    {
      "cell_type": "markdown",
      "source": [
        "Внесём замены в гомологичные участки:  \n",
        "QWERT**P**QWE**N**TY  \n",
        "QW**Y**RTYQWERTY"
      ],
      "metadata": {
        "id": "n8BEFsfUnIgx"
      }
    },
    {
      "cell_type": "code",
      "source": [
        "seq1 = \"AAAAAAAAAAQWERTPQWENTYGGGGGGG\"\n",
        "seq2 = \"TTTTTTQWYRTYQWERTYC\"\n",
        "smith_waterman(seq1, seq2)"
      ],
      "metadata": {
        "colab": {
          "base_uri": "https://localhost:8080/"
        },
        "id": "Kb4wvUfmt7-V",
        "outputId": "e0699b67-7e34-4304-af4a-bb7c7856b0a0"
      },
      "execution_count": null,
      "outputs": [
        {
          "output_type": "stream",
          "name": "stdout",
          "text": [
            "aaaaaaaaaaQWERTPQWENTYggggggg\n",
            "          ||*||*|||*||       \n",
            "----ttttttQWYRTYQWERTYc------\n",
            "Alignment score: 6.0\n"
          ]
        }
      ]
    },
    {
      "cell_type": "markdown",
      "source": [
        "Добавим короткие индели:  \n",
        "QW**R**RT**P**YQW**--**ERTY  \n",
        "QWERT**-**YQW**AA**ERTY"
      ],
      "metadata": {
        "id": "rJ-PmmOnnyCl"
      }
    },
    {
      "cell_type": "code",
      "source": [
        "seq1 = \"AAAAAAAAAAQWRRTPYQWERTYGGGGGGG\"\n",
        "seq2 = \"TTTTTTQWERTYQWAAERTYCCCCCCCCCCC\"\n",
        "smith_waterman(seq1, seq2)"
      ],
      "metadata": {
        "colab": {
          "base_uri": "https://localhost:8080/"
        },
        "id": "0KiBzwNHn1oz",
        "outputId": "6a2c912d-f5cd-433e-8cd1-b18dc174bc36"
      },
      "execution_count": null,
      "outputs": [
        {
          "output_type": "stream",
          "name": "stdout",
          "text": [
            "aaaaaaaaaaQWRRTPYQW--ERTYggggggg----\n",
            "          ||*|| |||  ||||           \n",
            "----ttttttQWERT-YQWAAERTYccccccccccc\n",
            "Alignment score: 7.0\n"
          ]
        }
      ]
    },
    {
      "cell_type": "markdown",
      "source": [
        "При этом если добавить слишком длинные инсерции(или сликшом много замен), то алгоритм с линейными штрафами за делеции не будет их обнаруживать, так как суммарный штраф за делецию начнёт превышать балл за выравнивание второго гомологичного участка:"
      ],
      "metadata": {
        "id": "whGpq93Yoa4c"
      }
    },
    {
      "cell_type": "code",
      "source": [
        "seq1 = \"QWERTYAAAAAQWERTY\" # 5A\n",
        "seq2 = \"QWERTYQWERTY\"\n",
        "smith_waterman(seq1, seq2)"
      ],
      "metadata": {
        "colab": {
          "base_uri": "https://localhost:8080/"
        },
        "id": "L_p1K3HQomFA",
        "outputId": "31158c4b-4cf4-46c0-81d2-124cd28f94c5"
      },
      "execution_count": null,
      "outputs": [
        {
          "output_type": "stream",
          "name": "stdout",
          "text": [
            "QWERTYAAAAAQWERTY\n",
            "||||||     ||||||\n",
            "QWERTY-----QWERTY\n",
            "Alignment score: 7.0\n"
          ]
        }
      ]
    },
    {
      "cell_type": "code",
      "source": [
        "seq1 = \"QWERTYAAAAAAQWERTY\" # 6A\n",
        "seq2 = \"QWERTYQWERTY\"\n",
        "smith_waterman(seq1, seq2)"
      ],
      "metadata": {
        "colab": {
          "base_uri": "https://localhost:8080/"
        },
        "id": "nXA7qA3WuQ-v",
        "outputId": "1de4f8e2-4095-4373-826a-ef957a759bb6"
      },
      "execution_count": null,
      "outputs": [
        {
          "output_type": "stream",
          "name": "stdout",
          "text": [
            "QWERTYaaaaaaqwerty\n",
            "||||||            \n",
            "QWERTYqwerty------\n",
            "Alignment score: 6.0\n"
          ]
        }
      ]
    },
    {
      "cell_type": "markdown",
      "source": [
        "Если добавить слишком много замен(даже на синонимичные остатки: Q-N, D-E и т.п.), тоже ломается ==> лучше использовать матрицу замен"
      ],
      "metadata": {
        "id": "yBy89KgcrF7r"
      }
    },
    {
      "cell_type": "code",
      "source": [
        "seq1 = \"QWDRTYNWEKTT\"\n",
        "seq2 = \"NWERPYQWERTY\"\n",
        "smith_waterman(seq1, seq2)"
      ],
      "metadata": {
        "colab": {
          "base_uri": "https://localhost:8080/"
        },
        "id": "IubVMigrtuwm",
        "outputId": "dbab68ff-0541-4d3c-e5f2-b17a1fa463ee"
      },
      "execution_count": null,
      "outputs": [
        {
          "output_type": "stream",
          "name": "stdout",
          "text": [
            "------QWDRTYnwektt\n",
            "      ||*|||      \n",
            "nwerpyQWERTY------\n",
            "Alignment score: 4.0\n"
          ]
        }
      ]
    },
    {
      "cell_type": "markdown",
      "source": [
        "Попробуем применить данный алгоритм к реальным последовательностям из UniProt на бета-субъединицы гемоглобина для:  \n",
        "человека: P68871  \n",
        "мыши: P02088    \n",
        "быка: P02070  \n",
        "свиньи: P02067   \n",
        "курицы: P02112"
      ],
      "metadata": {
        "id": "oAYSsFU-tyj9"
      }
    },
    {
      "cell_type": "code",
      "source": [
        "homo = \"MVHLTPEEKSAVTALWGKVNVDEVGGEALGRLLVVYPWTQRFFESFGDLSTPDAVMGNPKVKAHGKKVLGAFSDGLAHLDNLKGTFATLSELHCDKLHVDPENFRLLGNVLVCVLAHHFGKEFTPPVQAAYQKVVAGVANALAHKYH\"\n",
        "mouse = \"MVHLTDAEKAAVSCLWGKVNSDEVGGEALGRLLVVYPWTQRYFDSFGDLSSASAIMGNAKVKAHGKKVITAFNDGLNHLDSLKGTFASLSELHCDKLHVDPENFRLLGNMIVIVLGHHLGKDFTPAAQAAFQKVVAGVATALAHKYH\"\n",
        "bovine =\"MLTAEEKAAVTAFWGKVKVDEVGGEALGRLLVVYPWTQRFFESFGDLSTADAVMNNPKVKAHGKKVLDSFSNGMKHLDDLKGTFAALSELHCDKLHVDPENFKLLGNVLVVVLARNFGKEFTPVLQADFQKVVAGVANALAHRYH\"\n",
        "pig = \"MVHLSAEEKEAVLGLWGKVNVDEVGGEALGRLLVVYPWTQRFFESFGDLSNADAVMGNPKVKAHGKKVLQSFSDGLKHLDNLKGTFAKLSELHCDQLHVDPENFRLLGNVIVVVLARRLGHDFNPNVQAAFQKVVAGVANALAHKYH\"\n",
        "chick = \"MVHWTAEEKQLITGLWGKVNVAECGAEALARLLIVYPWTQRFFASFGNLSSPTAILGNPMVRAHGKKVLTSFGDAVKNLDNIKNTFSQLSELHCDKLHVDPENFRLLGDILIIVLAAHFSKDFTPECQAAWQKLVRVVAHALARKYH\""
      ],
      "metadata": {
        "id": "8zZ6Od9jmBZS"
      },
      "execution_count": null,
      "outputs": []
    },
    {
      "cell_type": "code",
      "source": [
        "smith_waterman(homo, mouse)"
      ],
      "metadata": {
        "colab": {
          "base_uri": "https://localhost:8080/"
        },
        "id": "yiw9ycxbtE1m",
        "outputId": "65c82048-66f4-4c77-a106-aae73ed48c4b"
      },
      "execution_count": null,
      "outputs": [
        {
          "output_type": "stream",
          "name": "stdout",
          "text": [
            "MVHLTPEEKSAVTALWGKVNVDEVGGEALGRLLVVYPWTQRFFESFGDLSTPDAVMGNPKVKAHGKKVLGAFSDGLAHLDNLKGTFATLSELHCDKLHVDPENFRLLGNVLVCVLAHHFGKEFTPPVQAAYQKVVAGVANALAHKYH\n",
            "|||||**||*||**||||||*||||||||||||||||||||*|*||||||***|*|||*|||||||||**||*|||*|||*||||||*|||||||||||||||||||||**|*||*||*||*|||**|||*||||||||*|||||||\n",
            "MVHLTDAEKAAVSCLWGKVNSDEVGGEALGRLLVVYPWTQRYFDSFGDLSSASAIMGNAKVKAHGKKVITAFNDGLNHLDSLKGTFASLSELHCDKLHVDPENFRLLGNMIVIVLGHHLGKDFTPAAQAAFQKVVAGVATALAHKYH\n",
            "Alignment score: 89.0\n"
          ]
        }
      ]
    },
    {
      "cell_type": "code",
      "source": [
        "smith_waterman(homo, bovine)"
      ],
      "metadata": {
        "colab": {
          "base_uri": "https://localhost:8080/"
        },
        "id": "kwOQu6ZTw6iB",
        "outputId": "be7166e9-0f7e-4493-9c17-79534219830e"
      },
      "execution_count": null,
      "outputs": [
        {
          "output_type": "stream",
          "name": "stdout",
          "text": [
            "mvhLTPEEKSAVTALWGKVNVDEVGGEALGRLLVVYPWTQRFFESFGDLSTPDAVMGNPKVKAHGKKVLGAFSDGLAHLDNLKGTFATLSELHCDKLHVDPENFRLLGNVLVCVLAHHFGKEFTPPV-QAAYQKVVAGVANALAHKYH\n",
            "   ||*|||*||||*||||*|||||||||||||||||||||||||||||||*||||*||||||||||||**||*|**|||*||||||*||||||||||||||||*|||||||*|||**|||||| || ||**|||||||||||||*||\n",
            "--mLTAEEKAAVTAFWGKVKVDEVGGEALGRLLVVYPWTQRFFESFGDLSTADAVMNNPKVKAHGKKVLDSFSNGMKHLDDLKGTFAALSELHCDKLHVDPENFKLLGNVLVVVLARNFGKEFT-PVLQADFQKVVAGVANALAHRYH\n",
            "Alignment score: 101.0\n"
          ]
        }
      ]
    },
    {
      "cell_type": "code",
      "source": [
        "smith_waterman(homo, chick)"
      ],
      "metadata": {
        "colab": {
          "base_uri": "https://localhost:8080/"
        },
        "id": "m4IAw5fMyDD1",
        "outputId": "02e1baf5-cf5c-4d50-9dea-8c979680d599"
      },
      "execution_count": null,
      "outputs": [
        {
          "output_type": "stream",
          "name": "stdout",
          "text": [
            "MVHLTPEEKSAVTALWGKVNVDEVGGEALGRLLVVYPWTQRFFESFGDLSTPDAVMGNPKVKAHGKKVLGAFSDGLAHLDNLKGTFATLSELHCDKLHVDPENFRLLGNVLVCVLAHHFGKEFTPPVQAAYQKVVAGVANALAHKYH\n",
            "|||*|*|||***|*|||||||*|*|*|||*|||*|||||||||*|||*||*|*|**|||*|*|||||||**|*|****|||*|*||**||||||||||||||||||||**|**|||*||*|*|||**|||*||*|**||*|||*|||\n",
            "MVHWTAEEKQLITGLWGKVNVAECGAEALARLLIVYPWTQRFFASFGNLSSPTAILGNPMVRAHGKKVLTSFGDAVKNLDNIKNTFSQLSELHCDKLHVDPENFRLLGDILIIVLAAHFSKDFTPECQAAWQKLVRVVAHALARKYH\n",
            "Alignment score: 57.0\n"
          ]
        }
      ]
    },
    {
      "cell_type": "markdown",
      "source": [
        "Видим, что алгоритм находит гомологичные участки в близких последовательностях, однако гэпы расставлены \"в рассыпную\", а мы ожидаем, что они будут группироваться ==> нужен более сложный алгоритм с афинными штрафами за гэпы и с матрицей замен вместо match/mismatch"
      ],
      "metadata": {
        "id": "SIAqrbfjyJWH"
      }
    },
    {
      "cell_type": "code",
      "source": [],
      "metadata": {
        "id": "FW5oslx8jjLC"
      },
      "execution_count": null,
      "outputs": []
    }
  ]
}